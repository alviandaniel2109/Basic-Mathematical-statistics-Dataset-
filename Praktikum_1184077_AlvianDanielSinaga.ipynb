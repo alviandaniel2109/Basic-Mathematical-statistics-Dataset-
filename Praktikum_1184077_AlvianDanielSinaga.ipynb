{
 "cells": [
  {
   "cell_type": "markdown",
   "metadata": {},
   "source": [
    "- # Nama: Alvian Daniel Sinaga\n",
    "- # NPM: 1184077"
   ]
  },
  {
   "cell_type": "markdown",
   "metadata": {},
   "source": [
    "# Latihan: Rata-rata dan Median Pengeluaran Pelanggan"
   ]
  },
  {
   "cell_type": "markdown",
   "metadata": {},
   "source": [
    "Berikut beberapa kode yang akan menghasilkan beberapa data e-commers acak; serangkaian jumlah total pengeluaran yang dibelanjakan per transaksi."
   ]
  },
  {
   "cell_type": "code",
   "execution_count": 2,
   "metadata": {
    "scrolled": true
   },
   "outputs": [
    {
     "data": {
      "image/png": "[encoded data removed]",
      "text/plain": [
       "<Figure size 432x288 with 1 Axes>"
      ]
     },
     "metadata": {
      "needs_background": "light"
     },
     "output_type": "display_data"
    }
   ],
   "source": [
    "%matplotlib inline\n",
    "import numpy as np\n",
    "import matplotlib.pyplot as plt\n",
    "\n",
    "incomes = np.random.normal(100.0, 20.0, 10000)\n",
    "\n",
    "plt.hist(incomes, 50)\n",
    "plt.show()"
   ]
  },
  {
   "cell_type": "markdown",
   "metadata": {},
   "source": [
    "Sekarang, cari mean dan median dari data ini. Pada blok kode di bawah ini, tulis kode Anda, dan lihat apakah hasilnya masuk akal:"
   ]
  },
  {
   "cell_type": "code",
   "execution_count": 7,
   "metadata": {},
   "outputs": [
    {
     "name": "stdout",
     "output_type": "stream",
     "text": [
      "Mean : 100.42428073443627\n",
      "Median : 100.30862001027388\n"
     ]
    }
   ],
   "source": [
    "#Mean Incomes\n",
    "x = np.mean(incomes)\n",
    "#Median Incomes\n",
    "y = np.median(incomes)\n",
    "print('Mean :',x)\n",
    "print('Median :',y)"
   ]
  },
  {
   "cell_type": "markdown",
   "metadata": {},
   "source": [
    "Cobalah tambahkan data total pengeluaran sejumlah NPM masing-masing untuk menghasilkan distribusi data yang berbeda,lihat efeknya. \n",
    "- Cari Mean nya setelah ditambahkan data tersebut\n",
    "- Cari Median nya setelah ditambahkan data tersebut"
   ]
  },
  {
   "cell_type": "code",
   "execution_count": 11,
   "metadata": {},
   "outputs": [
    {
     "name": "stdout",
     "output_type": "stream",
     "text": [
      "Mean : 218.8100997244638\n",
      "Median : 100.30874074821\n"
     ]
    }
   ],
   "source": [
    "#NPM 1184077\n",
    "dt = np.append(incomes, [1184077])\n",
    "#Mean dt\n",
    "x = np.mean(dt)\n",
    "#Median dt\n",
    "y = np.median(dt)\n",
    "print('Mean :',x)\n",
    "print('Median :',y)"
   ]
  }
 ],
 "metadata": {
  "kernelspec": {
   "display_name": "Python 3",
   "language": "python",
   "name": "python3"
  },
  "language_info": {
   "codemirror_mode": {
    "name": "ipython",
    "version": 3
   },
   "file_extension": ".py",
   "mimetype": "text/x-python",
   "name": "python",
   "nbconvert_exporter": "python",
   "pygments_lexer": "ipython3",
   "version": "3.8.5"
  }
 },
 "nbformat": 4,
 "nbformat_minor": 1
}
